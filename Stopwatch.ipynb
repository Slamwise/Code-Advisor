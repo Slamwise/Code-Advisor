{
 "cells": [
  {
   "cell_type": "code",
   "execution_count": 11,
   "metadata": {},
   "outputs": [
    {
     "name": "stdout",
     "output_type": "stream",
     "text": [
      "Linting Results:\n",
      " ************* Module test\n",
      "test.py:4:0: C0304: Final newline missing (missing-final-newline)\n",
      "test.py:1:0: C0114: Missing module docstring (missing-module-docstring)\n",
      "\n",
      "------------------------------------------------------------------\n",
      "Your code has been rated at 0.00/10 (previous run: 0.00/10, +0.00)\n",
      "\n",
      "\n",
      "\n",
      "Profiling Results:\n",
      " \n"
     ]
    }
   ],
   "source": [
    "import subprocess\n",
    "import os\n",
    "\n",
    "# 1. Linting the file\n",
    "def lint_code(file_path):\n",
    "    result = subprocess.run(['pylint', file_path], stdout=subprocess.PIPE, stderr=subprocess.PIPE)\n",
    "    return result.stdout.decode('utf-8') + \"\\n\" + result.stderr.decode('utf-8')\n",
    "\n",
    "# 2. Checking file execution\n",
    "def check_execution(file_path):\n",
    "    try:\n",
    "        subprocess.run(['python', file_path], check=True, stdout=subprocess.PIPE, stderr=subprocess.PIPE)\n",
    "        return True, \"Execution successful\"\n",
    "    except subprocess.CalledProcessError as e:\n",
    "        return False, e.stderr.decode('utf-8')\n",
    "\n",
    "# 3. Profiling the file\n",
    "def profile_script(file_path):\n",
    "    profile_output = file_path.replace('.py', '_profile.lprof')\n",
    "    subprocess.run(['kernprof', '-l', '-v', file_path], stdout=subprocess.PIPE)\n",
    "    result = subprocess.run(['python', '-m', 'line_profiler', profile_output], stdout=subprocess.PIPE)\n",
    "    return result.stdout.decode('utf-8')\n",
    "\n",
    "# Wrapper function to lint, check execution, and profile a .py file\n",
    "def process_file(file_path):\n",
    "    # Linting\n",
    "    lint_results = lint_code(file_path)\n",
    "    print(\"Linting Results:\\n\", lint_results)\n",
    "    \n",
    "    # Execution Check\n",
    "    exec_success, exec_message = check_execution(file_path)\n",
    "    if not exec_success:\n",
    "        print(\"Execution Failed:\\n\", exec_message)\n",
    "        return  # Stop the process if the file doesn't execute successfully\n",
    "    \n",
    "    # Profiling\n",
    "    profile_results = profile_script(file_path)\n",
    "    print(\"Profiling Results:\\n\", profile_results)\n",
    "\n",
    "# Test the functions with a .py file path\n",
    "file_path = 'test.py'  # Replace with your file path\n",
    "process_file(file_path)\n"
   ]
  }
 ],
 "metadata": {
  "kernelspec": {
   "display_name": "pyenv",
   "language": "python",
   "name": "python3"
  },
  "language_info": {
   "codemirror_mode": {
    "name": "ipython",
    "version": 3
   },
   "file_extension": ".py",
   "mimetype": "text/x-python",
   "name": "python",
   "nbconvert_exporter": "python",
   "pygments_lexer": "ipython3",
   "version": "3.10.0"
  }
 },
 "nbformat": 4,
 "nbformat_minor": 2
}
